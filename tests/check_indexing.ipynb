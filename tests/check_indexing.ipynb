{
 "cells": [
  {
   "cell_type": "code",
   "execution_count": 2,
   "metadata": {},
   "outputs": [],
   "source": [
    "import torch"
   ]
  },
  {
   "cell_type": "code",
   "execution_count": 89,
   "metadata": {},
   "outputs": [
    {
     "data": {
      "text/plain": [
       "tensor([[[ 0,  2,  4,  6,  8],\n",
       "         [10, 12, 14, 16, 18],\n",
       "         [20, 22, 24, 26, 28],\n",
       "         [30, 32, 34, 36, 38],\n",
       "         [40, 42, 44, 46, 48]],\n",
       "\n",
       "        [[50, 52, 54, 56, 58],\n",
       "         [60, 62, 64, 66, 68],\n",
       "         [70, 72, 74, 76, 78],\n",
       "         [80, 82, 84, 86, 88],\n",
       "         [90, 92, 94, 96, 98]]])"
      ]
     },
     "execution_count": 89,
     "metadata": {},
     "output_type": "execute_result"
    }
   ],
   "source": [
    "N = 2\n",
    "C = 3\n",
    "H = 5\n",
    "W = 5\n",
    "x = torch.arange(N*H*W).reshape(N, H, W)*2\n",
    "x"
   ]
  },
  {
   "cell_type": "code",
   "execution_count": 96,
   "metadata": {},
   "outputs": [
    {
     "data": {
      "text/plain": [
       "(tensor([[19,  3, 23,  8, 22,  8, 12, 22],\n",
       "         [ 4,  4, 11, 23, 17,  0, 10, 22]]), torch.Size([2, 8]))"
      ]
     },
     "execution_count": 96,
     "metadata": {},
     "output_type": "execute_result"
    }
   ],
   "source": [
    "indices = torch.randint(H * W, (N, 8), dtype=torch.long)\n",
    "indices, indices.shape"
   ]
  },
  {
   "cell_type": "code",
   "execution_count": 115,
   "metadata": {},
   "outputs": [
    {
     "data": {
      "text/plain": [
       "(tensor([[38,  6, 46, 16, 44, 16, 24, 44],\n",
       "         [58, 58, 72, 96, 84, 50, 70, 94]]), torch.Size([2, 8]))"
      ]
     },
     "execution_count": 115,
     "metadata": {},
     "output_type": "execute_result"
    }
   ],
   "source": [
    "ga = torch.gather(x.view(N, H * W), 1, indices).view(N, -1)\n",
    "ga, ga.shape"
   ]
  },
  {
   "cell_type": "code",
   "execution_count": 98,
   "metadata": {},
   "outputs": [
    {
     "data": {
      "text/plain": [
       "(tensor([[0, 0, 0, 0, 0, 0, 0, 0],\n",
       "         [0, 0, 0, 0, 0, 0, 0, 0]]), tensor([[[ 0,  2,  4,  6,  8],\n",
       "          [10, 12, 14, 16, 18],\n",
       "          [20, 22, 24, 26, 28],\n",
       "          [30, 32, 34, 36, 38],\n",
       "          [40, 42, 44, 46, 48]],\n",
       " \n",
       "         [[50, 52, 54, 56, 58],\n",
       "          [60, 62, 64, 66, 68],\n",
       "          [70, 72, 74, 76, 78],\n",
       "          [80, 82, 84, 86, 88],\n",
       "          [90, 92, 94, 96, 98]]]))"
      ]
     },
     "execution_count": 98,
     "metadata": {},
     "output_type": "execute_result"
    }
   ],
   "source": [
    "ga = ga / 100\n",
    "ga, x "
   ]
  },
  {
   "cell_type": "code",
   "execution_count": 100,
   "metadata": {},
   "outputs": [
    {
     "data": {
      "text/plain": [
       "(tensor([[ 0,  2,  4,  6,  8],\n",
       "         [10, 12, 14, 16, 18],\n",
       "         [20, 22, 24, 26, 28],\n",
       "         [30, 32, 34, 36, 38],\n",
       "         [40, 42, 44, 46, 48]]), tensor([[50, 52, 54, 56, 58],\n",
       "         [60, 62, 64, 66, 68],\n",
       "         [70, 72, 74, 76, 78],\n",
       "         [80, 82, 84, 86, 88],\n",
       "         [90, 92, 94, 96, 98]]))"
      ]
     },
     "execution_count": 100,
     "metadata": {},
     "output_type": "execute_result"
    }
   ],
   "source": [
    "x2 = torch.arange(N*C*H*W).reshape(N, C, H, W)*2\n",
    "x2[0][0], x2[0][1]"
   ]
  },
  {
   "cell_type": "code",
   "execution_count": 73,
   "metadata": {},
   "outputs": [
    {
     "data": {
      "text/plain": [
       "torch.Size([2, 3, 8])"
      ]
     },
     "execution_count": 73,
     "metadata": {},
     "output_type": "execute_result"
    }
   ],
   "source": [
    "indices.unsqueeze(1).expand(-1, C, -1).shape"
   ]
  },
  {
   "cell_type": "code",
   "execution_count": 78,
   "metadata": {},
   "outputs": [
    {
     "data": {
      "text/plain": [
       "(tensor([[[ 42,  24,  42,  10,  40,  32,  42,  22],\n",
       "          [ 92,  74,  92,  60,  90,  82,  92,  72],\n",
       "          [142, 124, 142, 110, 140, 132, 142, 122]],\n",
       " \n",
       "         [[170, 156, 196, 180, 180, 184, 168, 198],\n",
       "          [220, 206, 246, 230, 230, 234, 218, 248],\n",
       "          [270, 256, 296, 280, 280, 284, 268, 298]]]), torch.Size([2, 3, 8]))"
      ]
     },
     "execution_count": 78,
     "metadata": {},
     "output_type": "execute_result"
    }
   ],
   "source": [
    "ga = torch.gather(x2.view(N, C, -1), 2, indices.unsqueeze(1).expand(-1, C, -1))\n",
    "ga, ga.shape"
   ]
  },
  {
   "cell_type": "code",
   "execution_count": 114,
   "metadata": {},
   "outputs": [
    {
     "data": {
      "text/plain": [
       "(tensor([[ 38.,   6.,  46.,  16.,  44.,  16.,  24.,  44.],\n",
       "         [158., 158., 172., 196., 184., 150., 170., 194.]],\n",
       "        grad_fn=<SliceBackward>),\n",
       " tensor([[ 88.,  56.,  96.,  66.,  94.,  66.,  74.,  94.],\n",
       "         [208., 208., 222., 246., 234., 200., 220., 244.]],\n",
       "        grad_fn=<SliceBackward>))"
      ]
     },
     "execution_count": 114,
     "metadata": {},
     "output_type": "execute_result"
    }
   ],
   "source": [
    "ga[:, 0, :], ga[:, 1, :]"
   ]
  },
  {
   "cell_type": "markdown",
   "metadata": {},
   "source": [
    "# Gather Backward"
   ]
  },
  {
   "cell_type": "code",
   "execution_count": 112,
   "metadata": {},
   "outputs": [],
   "source": [
    "x3 = x2.float().requires_grad_(True)\n",
    "ga = torch.gather(x3.view(N, C, -1), 2, indices.unsqueeze(1).expand(-1, C, -1))\n",
    "x3.sum().backward()"
   ]
  },
  {
   "cell_type": "code",
   "execution_count": 113,
   "metadata": {},
   "outputs": [
    {
     "data": {
      "text/plain": [
       "tensor([[[ 38.,   6.,  46.,  16.,  44.,  16.,  24.,  44.],\n",
       "         [ 88.,  56.,  96.,  66.,  94.,  66.,  74.,  94.],\n",
       "         [138., 106., 146., 116., 144., 116., 124., 144.]],\n",
       "\n",
       "        [[158., 158., 172., 196., 184., 150., 170., 194.],\n",
       "         [208., 208., 222., 246., 234., 200., 220., 244.],\n",
       "         [258., 258., 272., 296., 284., 250., 270., 294.]]],\n",
       "       grad_fn=<GatherBackward>)"
      ]
     },
     "execution_count": 113,
     "metadata": {},
     "output_type": "execute_result"
    }
   ],
   "source": [
    "ga"
   ]
  },
  {
   "cell_type": "code",
   "execution_count": 145,
   "metadata": {},
   "outputs": [
    {
     "data": {
      "text/plain": [
       "(tensor([[ 5, 18,  8,  5, 10, 15,  3, 22, 24, 11, 24, 19,  8, 13, 16, 18, 18, 11,\n",
       "          15,  5,  9,  9,  4,  7, 21,  3,  8,  2, 17, 19],\n",
       "         [ 3, 16,  0, 10,  3, 20,  5,  0,  4, 10, 19,  8, 10, 23, 12, 16, 21,  1,\n",
       "          23, 15, 23, 21,  5, 24, 23, 11, 10, 15, 19, 19]]),\n",
       " tensor([[10, 36, 16, 10, 20, 30,  6, 44, 48, 22, 48, 38, 16, 26, 32, 36, 36, 22,\n",
       "          30, 10, 18, 18,  8, 14, 42,  6, 16,  4, 34, 38],\n",
       "         [56, 82, 50, 70, 56, 90, 60, 50, 58, 70, 88, 66, 70, 96, 74, 82, 92, 52,\n",
       "          96, 80, 96, 92, 60, 98, 96, 72, 70, 80, 88, 88]]))"
      ]
     },
     "execution_count": 145,
     "metadata": {},
     "output_type": "execute_result"
    }
   ],
   "source": [
    "N = 2\n",
    "C = 3\n",
    "H = 5\n",
    "W = 5\n",
    "x = torch.arange(N*H*W).reshape(N, H, W)*2\n",
    "indices = torch.randint(H * W, (N, 30), dtype=torch.long)\n",
    "ga = torch.gather(x.view(N, H * W), 1, indices).view(N, -1)\n",
    "indices, ga"
   ]
  },
  {
   "cell_type": "code",
   "execution_count": 146,
   "metadata": {},
   "outputs": [
    {
     "name": "stdout",
     "output_type": "stream",
     "text": [
      "Value ; tensor([[48, 48, 44, 42, 38],\n",
      "        [98, 96, 96, 96, 96]]) torch.Size([2, 5])\n",
      "Idx ; tensor([[10,  8,  7, 24, 11],\n",
      "        [23, 24, 20, 18, 13]]) torch.Size([2, 5])\n"
     ]
    }
   ],
   "source": [
    "v, i = ga.topk(5)\n",
    "print(\"Value ;\", v, v.shape)\n",
    "print(\"Idx ;\",i, i.shape)"
   ]
  },
  {
   "cell_type": "code",
   "execution_count": 147,
   "metadata": {},
   "outputs": [
    {
     "data": {
      "text/plain": [
       "tensor([[24, 24, 22, 21, 19],\n",
       "        [24, 23, 23, 23, 23]])"
      ]
     },
     "execution_count": 147,
     "metadata": {},
     "output_type": "execute_result"
    }
   ],
   "source": [
    "reverse_indices = torch.gather(indices, 1, i)\n",
    "reverse_indices"
   ]
  },
  {
   "cell_type": "code",
   "execution_count": 144,
   "metadata": {},
   "outputs": [
    {
     "data": {
      "text/plain": [
       "tensor([[36, 36, 34, 26, 12],\n",
       "        [98, 94, 88, 88, 82]])"
      ]
     },
     "execution_count": 144,
     "metadata": {},
     "output_type": "execute_result"
    }
   ],
   "source": [
    "torch.gather(x.view(N, H * W), 1, reverse_indices).view(N, -1)"
   ]
  },
  {
   "cell_type": "code",
   "execution_count": null,
   "metadata": {},
   "outputs": [],
   "source": []
  }
 ],
 "metadata": {
  "kernelspec": {
   "display_name": "Python 3",
   "language": "python",
   "name": "python3"
  },
  "language_info": {
   "codemirror_mode": {
    "name": "ipython",
    "version": 3
   },
   "file_extension": ".py",
   "mimetype": "text/x-python",
   "name": "python",
   "nbconvert_exporter": "python",
   "pygments_lexer": "ipython3",
   "version": "3.7.2"
  }
 },
 "nbformat": 4,
 "nbformat_minor": 4
}
