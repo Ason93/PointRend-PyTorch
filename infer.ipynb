{
 "cells": [
  {
   "cell_type": "code",
   "execution_count": 6,
   "metadata": {},
   "outputs": [
    {
     "data": {
      "text/plain": [
       "[(0, 'outs/200112_with_dp'),\n",
       " (1, 'outs/200113_with_dp'),\n",
       " (2, 'outs/test_city'),\n",
       " (3, 'outs/test_wpef')]"
      ]
     },
     "execution_count": 6,
     "metadata": {},
     "output_type": "execute_result"
    }
   ],
   "source": [
    "from glob import glob\n",
    "\n",
    "ckpoints = glob(\"outs/*\")\n",
    "list(enumerate(ckpoints))"
   ]
  },
  {
   "cell_type": "code",
   "execution_count": 22,
   "metadata": {},
   "outputs": [
    {
     "data": {
      "text/plain": [
       "data:\n",
       "  dataset:\n",
       "    mode: fine\n",
       "    root: /data2/DW/point-semantic/cityscapes\n",
       "    target_type: semantic\n",
       "  loader:\n",
       "    batch_size: 32\n",
       "  name: cityscapes\n",
       "net:\n",
       "  deeplab:\n",
       "    head_in_ch: 2048\n",
       "    num_classes: 20\n",
       "    pretrained: false\n",
       "    resnet: res103\n",
       "  pointhead:\n",
       "    beta: 0.75\n",
       "    in_c: 533\n",
       "    k: 3\n",
       "    num_classes: 20\n",
       "run:\n",
       "  epochs: 200"
      ]
     },
     "execution_count": 22,
     "metadata": {},
     "output_type": "execute_result"
    }
   ],
   "source": [
    "idx = 1\n",
    "\n",
    "from configs.parser import Parser\n",
    "\n",
    "C = Parser(f\"{ckpoints[idx]}/config.yaml\").C\n",
    "C"
   ]
  },
  {
   "cell_type": "code",
   "execution_count": 23,
   "metadata": {},
   "outputs": [
    {
     "data": {
      "text/plain": [
       "[(0, 'outs/200113_with_dp/epoch_0000_loss_1.00507.pth'),\n",
       " (1, 'outs/200113_with_dp/epoch_0010_loss_0.49184.pth'),\n",
       " (2, 'outs/200113_with_dp/epoch_0020_loss_0.47258.pth'),\n",
       " (3, 'outs/200113_with_dp/epoch_0030_loss_0.44325.pth'),\n",
       " (4, 'outs/200113_with_dp/epoch_0040_loss_0.38861.pth'),\n",
       " (5, 'outs/200113_with_dp/epoch_0050_loss_0.31817.pth'),\n",
       " (6, 'outs/200113_with_dp/epoch_0060_loss_0.28252.pth'),\n",
       " (7, 'outs/200113_with_dp/epoch_0070_loss_0.23913.pth'),\n",
       " (8, 'outs/200113_with_dp/epoch_0080_loss_0.21490.pth'),\n",
       " (9, 'outs/200113_with_dp/epoch_0090_loss_0.17623.pth'),\n",
       " (10, 'outs/200113_with_dp/epoch_0100_loss_0.13323.pth'),\n",
       " (11, 'outs/200113_with_dp/epoch_0110_loss_0.09992.pth'),\n",
       " (12, 'outs/200113_with_dp/epoch_0120_loss_0.08335.pth'),\n",
       " (13, 'outs/200113_with_dp/epoch_0130_loss_0.06446.pth'),\n",
       " (14, 'outs/200113_with_dp/epoch_0140_loss_0.05860.pth'),\n",
       " (15, 'outs/200113_with_dp/epoch_0150_loss_0.03984.pth'),\n",
       " (16, 'outs/200113_with_dp/epoch_0160_loss_0.03032.pth'),\n",
       " (17, 'outs/200113_with_dp/epoch_0170_loss_0.14495.pth'),\n",
       " (18, 'outs/200113_with_dp/epoch_0180_loss_0.03000.pth'),\n",
       " (19, 'outs/200113_with_dp/epoch_0190_loss_0.02663.pth'),\n",
       " (20, 'outs/200113_with_dp/epoch_0200_loss_0.02787.pth'),\n",
       " (21, 'outs/200113_with_dp/epoch_0210_loss_0.05394.pth'),\n",
       " (22, 'outs/200113_with_dp/epoch_0220_loss_0.02621.pth'),\n",
       " (23, 'outs/200113_with_dp/epoch_0230_loss_0.02264.pth'),\n",
       " (24, 'outs/200113_with_dp/epoch_0240_loss_0.03747.pth'),\n",
       " (25, 'outs/200113_with_dp/epoch_0250_loss_0.02694.pth'),\n",
       " (26, 'outs/200113_with_dp/epoch_0260_loss_0.02174.pth'),\n",
       " (27, 'outs/200113_with_dp/epoch_0270_loss_0.02201.pth'),\n",
       " (28, 'outs/200113_with_dp/epoch_0280_loss_0.04058.pth'),\n",
       " (29, 'outs/200113_with_dp/epoch_0290_loss_0.02130.pth')]"
      ]
     },
     "execution_count": 23,
     "metadata": {},
     "output_type": "execute_result"
    }
   ],
   "source": [
    "states = glob(f\"{ckpoints[idx]}/*.pth\")\n",
    "list(enumerate(states))"
   ]
  },
  {
   "cell_type": "code",
   "execution_count": 25,
   "metadata": {},
   "outputs": [
    {
     "name": "stdout",
     "output_type": "stream",
     "text": [
      "Load Done outs/200113_with_dp/epoch_0290_loss_0.02130.pth\n"
     ]
    }
   ],
   "source": [
    "import torch\n",
    "from model import deeplabv3, PointHead, PointRend\n",
    "\n",
    "idx = -1 \n",
    "state = torch.load(f\"{states[idx]}\")\n",
    "\n",
    "pointrend = PointRend(\n",
    "    deeplabv3(**C.net.deeplab),\n",
    "    PointHead(**C.net.pointhead)\n",
    ")\n",
    "pointhead = torch.nn.DataParallel(pointrend)\n",
    "# pointrend.load_state_dict(state)\n",
    "\n",
    "pointrend = pointhead.module\n",
    "print(f\"Load Done {states[idx]}\")"
   ]
  },
  {
   "cell_type": "code",
   "execution_count": null,
   "metadata": {},
   "outputs": [],
   "source": [
    "\n",
    "@torch.no_grad()\n",
    "def step(net, loader):\n",
    "    net.eval()\n",
    " \n",
    "    for i, (x, gt) in enumerate(loader):\n",
    "\n",
    "        "
   ]
  }
 ],
 "metadata": {
  "kernelspec": {
   "display_name": "Python 3",
   "language": "python",
   "name": "python3"
  },
  "language_info": {
   "codemirror_mode": {
    "name": "ipython",
    "version": 3
   },
   "file_extension": ".py",
   "mimetype": "text/x-python",
   "name": "python",
   "nbconvert_exporter": "python",
   "pygments_lexer": "ipython3",
   "version": "3.7.2"
  }
 },
 "nbformat": 4,
 "nbformat_minor": 4
}